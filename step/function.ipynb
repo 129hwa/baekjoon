{
  "nbformat": 4,
  "nbformat_minor": 0,
  "metadata": {
    "colab": {
      "provenance": []
    },
    "kernelspec": {
      "name": "python3",
      "display_name": "Python 3"
    },
    "language_info": {
      "name": "python"
    }
  },
  "cells": [
    {
      "cell_type": "markdown",
      "source": [
        "### #15596 정수 N개의 합\n",
        "문제 설명 페이지: https://www.acmicpc.net/problem/15596"
      ],
      "metadata": {
        "id": "urNyWfa1Natj"
      }
    },
    {
      "cell_type": "code",
      "execution_count": null,
      "metadata": {
        "id": "2yT9Sz06L4Kl"
      },
      "outputs": [],
      "source": [
        "def solve(a):\n",
        "    ans = 0\n",
        "    for i in a:\n",
        "        ans+=i\n",
        "    return ans"
      ]
    },
    {
      "cell_type": "markdown",
      "source": [
        "### #4673 셀프 넘버\n",
        "문제 설명 페이지: https://www.acmicpc.net/problem/4673"
      ],
      "metadata": {
        "id": "GA5ijyrXNDpd"
      }
    },
    {
      "cell_type": "code",
      "source": [
        "n = 1\n",
        "\n",
        "def d(n):\n",
        "    global ans\n",
        "    if n//1000 != 0: #1000의 자리\n",
        "        th = n//1000\n",
        "        h = n//100 - th*10\n",
        "        t = n//10 - th*100 - h*10\n",
        "        o = n%10\n",
        "        ans = n+th+h+t+o\n",
        "    elif n//100 != 0: #100의 자리\n",
        "        h = n//100\n",
        "        t = n//10 - h*10\n",
        "        o = n%10\n",
        "        ans = n+h+t+o\n",
        "    elif n//10 != 0: #10의 자리\n",
        "        t = n//10\n",
        "        o = n%10\n",
        "        ans = n+t+o\n",
        "    elif n < 10:\n",
        "        ans = 2*n\n",
        "    return ans\n",
        "\n",
        "notself = []\n",
        "\n",
        "for _ in range(1,10000):\n",
        "    notself.append(d(n))\n",
        "    n+=1\n",
        "\n",
        "for i in range(1, 10000):\n",
        "    if i not in notself:\n",
        "        print(i)"
      ],
      "metadata": {
        "id": "HlpsJUeoNRWI"
      },
      "execution_count": null,
      "outputs": []
    },
    {
      "cell_type": "markdown",
      "source": [
        "### #1065 한수\n",
        "문제 설명 페이지: https://www.acmicpc.net/problem/1065"
      ],
      "metadata": {
        "id": "5XgV5BTkNTk8"
      }
    },
    {
      "cell_type": "code",
      "source": [
        "N = int(input())\n",
        "cnt = 0\n",
        "num = 1\n",
        "\n",
        "def hansu(N):\n",
        "    global cnt\n",
        "    if N//100 < 1:\n",
        "        cnt += 1\n",
        "        return N\n",
        "    else:\n",
        "        #세 자리 수\n",
        "        n3 = N//100\n",
        "        n2 = ((N%100 - N%10)//10)\n",
        "        n1 = N%10\n",
        "        if n3 == n2 and n2 == n1: #공차 d가 0\n",
        "            cnt += 1\n",
        "            #print(n3*100+n2*10+n1)\n",
        "        elif n3>n2 and n2>n1: #공차가 음수\n",
        "            for i in range(1,5):#공차 d의 범위는 1~4\n",
        "                if n3-i == n2 and n2-i == n1:\n",
        "                    cnt+=1\n",
        "                    #print(n3*100+n2*10+n1)\n",
        "        elif n3<n2 and n2<n1: #공차가 양수\n",
        "            for i in range(1,5):\n",
        "                if n3+i == n2 and n2+i == n1:\n",
        "                    cnt+=1\n",
        "                    #print(n3*100+n2*10+n1)\n",
        "        #return n3*100+n2*10+n1, 'cnt'\n",
        "\n",
        "while num <= N:\n",
        "    hansu(num)\n",
        "    #print(hansu(num))\n",
        "    num += 1\n",
        "print(cnt)"
      ],
      "metadata": {
        "id": "7FD8JWB3NQlB"
      },
      "execution_count": null,
      "outputs": []
    }
  ]
}