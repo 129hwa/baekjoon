{
  "nbformat": 4,
  "nbformat_minor": 0,
  "metadata": {
    "colab": {
      "provenance": []
    },
    "kernelspec": {
      "name": "python3",
      "display_name": "Python 3"
    },
    "language_info": {
      "name": "python"
    }
  },
  "cells": [
    {
      "cell_type": "markdown",
      "source": [
        "### #2739 구구단\n",
        "문제 설명 페이지: https://www.acmicpc.net/problem/2739"
      ],
      "metadata": {
        "id": "urNyWfa1Natj"
      }
    },
    {
      "cell_type": "code",
      "execution_count": null,
      "metadata": {
        "id": "2yT9Sz06L4Kl"
      },
      "outputs": [],
      "source": [
        "n=int(input())\n",
        "for i in range(1,10):\n",
        "  print(n, '*',i, '=', n*i)"
      ]
    },
    {
      "cell_type": "markdown",
      "source": [
        "### #10950 A+B - 3\n",
        "문제 설명 페이지: https://www.acmicpc.net/problem/10950"
      ],
      "metadata": {
        "id": "GA5ijyrXNDpd"
      }
    },
    {
      "cell_type": "code",
      "source": [
        "t=int(input())\n",
        "c=[]\n",
        "for i in range(t):\n",
        "  a,b=map(int,input().split())\n",
        "  c.append(a+b)\n",
        "for i in range(t):\n",
        "  print(c[i])"
      ],
      "metadata": {
        "id": "HlpsJUeoNRWI"
      },
      "execution_count": null,
      "outputs": []
    },
    {
      "cell_type": "markdown",
      "source": [
        "### #8393 합\n",
        "문제 설명 페이지: https://www.acmicpc.net/problem/8393"
      ],
      "metadata": {
        "id": "5XgV5BTkNTk8"
      }
    },
    {
      "cell_type": "code",
      "source": [
        "n=int(input())\n",
        "s=0\n",
        "for i in range(1,n+1):\n",
        "    s+=i\n",
        "print(s)"
      ],
      "metadata": {
        "id": "7FD8JWB3NQlB"
      },
      "execution_count": null,
      "outputs": []
    },
    {
      "cell_type": "markdown",
      "source": [
        "### #25304 영수증\n",
        "문제 설명 페이지: https://www.acmicpc.net/problem/25304"
      ],
      "metadata": {
        "id": "lbdBDcY0U7b9"
      }
    },
    {
      "cell_type": "code",
      "source": [
        "price = 0\n",
        "X = int(input())\n",
        "N = int(input())\n",
        "\n",
        "for _ in range(N):\n",
        "    a, b = map(int, input().split())\n",
        "    price += a*b\n",
        "\n",
        "if price == X:\n",
        "    print('Yes')\n",
        "else:\n",
        "    print('No')"
      ],
      "metadata": {
        "id": "xqS4aJCKRyTc"
      },
      "execution_count": null,
      "outputs": []
    },
    {
      "cell_type": "markdown",
      "source": [
        "### #15552 빠른 A+B\n",
        "문제 설명 페이지: https://www.acmicpc.net/problem/15552"
      ],
      "metadata": {
        "id": "ypxbK9hwRzNv"
      }
    },
    {
      "cell_type": "code",
      "source": [
        "import sys\n",
        "\n",
        "result=[]\n",
        "T = int(sys.stdin.readline())\n",
        "for i in range(T):\n",
        "    A, B = map(int, sys.stdin.readline().split())\n",
        "    result.append(A+B)\n",
        "\n",
        "for i in range(len(result)):\n",
        "    print(result[i])"
      ],
      "metadata": {
        "id": "kW_5gdQZR9NR"
      },
      "execution_count": null,
      "outputs": []
    },
    {
      "cell_type": "markdown",
      "source": [
        "### #11021 A+B - 7\n",
        "문제 설명 페이지: https://www.acmicpc.net/problem/11021"
      ],
      "metadata": {
        "id": "1XlsOIG4SGG2"
      }
    },
    {
      "cell_type": "code",
      "source": [
        "n=int(input())\n",
        "c=[]\n",
        "for i in range(n):\n",
        "  a,b=map(int,input().split())\n",
        "  c.append([i,a+b])\n",
        "for i in range(n):\n",
        "  print('Case #{0}: {1}'.format(c[i][0]+1,c[i][1]))"
      ],
      "metadata": {
        "id": "pGXeruL6SXRz"
      },
      "execution_count": null,
      "outputs": []
    },
    {
      "cell_type": "markdown",
      "source": [
        "### #11022 A+B - 8\n",
        "문제 설명 페이지: https://www.acmicpc.net/problem/11022"
      ],
      "metadata": {
        "id": "VTCUfbFHSbN_"
      }
    },
    {
      "cell_type": "code",
      "source": [
        "import sys\n",
        "\n",
        "result=[]\n",
        "T = int(sys.stdin.readline())\n",
        "for i in range(T):\n",
        "    A, B = map(int, sys.stdin.readline().split())\n",
        "    result.append([A, B, A+B])\n",
        "\n",
        "for i in range(len(result)):\n",
        "    print('Case #{0}: {1} + {2} = {3}'.format(i+1, result[i][0], result[i][1], result[i][2]))"
      ],
      "metadata": {
        "id": "1_sX6ZDASurp"
      },
      "execution_count": null,
      "outputs": []
    },
    {
      "cell_type": "markdown",
      "source": [
        "### #2438 별 찍기 - 1\n",
        "문제 설명 페이지: https://www.acmicpc.net/problem/2438"
      ],
      "metadata": {
        "id": "j1XiQ9zNa0lc"
      }
    },
    {
      "cell_type": "code",
      "source": [
        "n=int(input())\n",
        "for i in range(1,n+1):\n",
        "  print('*'*i)"
      ],
      "metadata": {
        "id": "n1oKL1Dca9Yk"
      },
      "execution_count": null,
      "outputs": []
    },
    {
      "cell_type": "markdown",
      "source": [
        "### #2439 별 찍기 - 2\n",
        "문제 설명 페이지: https://www.acmicpc.net/problem/2439"
      ],
      "metadata": {
        "id": "0Hj2Zd-ga97I"
      }
    },
    {
      "cell_type": "code",
      "source": [
        "n=int(input())\n",
        "for i in range(1,n+1):\n",
        "  print(('*'*i).rjust(n))"
      ],
      "metadata": {
        "id": "KEcRPxS1bDvU"
      },
      "execution_count": null,
      "outputs": []
    },
    {
      "cell_type": "markdown",
      "source": [
        "### #10952 A+B - 5\n",
        "문제 설명 페이지: https://www.acmicpc.net/problem/10952"
      ],
      "metadata": {
        "id": "Awy0A3u5bEf6"
      }
    },
    {
      "cell_type": "code",
      "source": [
        "c=[]\n",
        "while 1:\n",
        "    a,b=map(int,input().split())\n",
        "    c.append(a+b)\n",
        "    if a==0 and b==0:\n",
        "        for i in range(len(c)-1):\n",
        "            print(c[i],end='\\n')\n",
        "        break"
      ],
      "metadata": {
        "id": "D65C9GazbIyc"
      },
      "execution_count": null,
      "outputs": []
    },
    {
      "cell_type": "markdown",
      "source": [
        "### #10951 A+B - 4\n",
        "문제 설명 페이지: https://www.acmicpc.net/problem/10951"
      ],
      "metadata": {
        "id": "uA_GwRS6dr4N"
      }
    },
    {
      "cell_type": "code",
      "source": [
        "num=[]\n",
        "while True:\n",
        "    try:\n",
        "        a, b = map(int, input().split())\n",
        "        num.append([a, b])\n",
        "    except EOFError:\n",
        "        break\n",
        "\n",
        "for i in range(len(num)):\n",
        "    print(num[i][0]+num[i][1])"
      ],
      "metadata": {
        "id": "G597uqWWdyy6"
      },
      "execution_count": null,
      "outputs": []
    },
    {
      "cell_type": "code",
      "source": [
        "num=[]\n",
        "while True:\n",
        "    try:\n",
        "        a, b = map(int, input().split())\n",
        "        num.append([a, b])\n",
        "    except:\n",
        "        break\n",
        "\n",
        "for i in range(len(num)):\n",
        "    print(num[i][0]+num[i][1])"
      ],
      "metadata": {
        "id": "SU1w4SkiecXU"
      },
      "execution_count": null,
      "outputs": []
    },
    {
      "cell_type": "markdown",
      "source": [
        "### #1110 더하기 사이클\n",
        "문제 설명 페이지: https://www.acmicpc.net/problem/1110"
      ],
      "metadata": {
        "id": "bvEI2ZEjdzL-"
      }
    },
    {
      "cell_type": "code",
      "source": [
        "import copy\n",
        "n=int(input())\n",
        "count=0\n",
        "ncopy=copy.deepcopy(n)\n",
        "\n",
        "while 1:\n",
        "  a=ncopy%10 #두자리수 1의 자리 나머지\n",
        "  b=ncopy//10 #두자리 수 10의 자리 수 몫\n",
        "  if n>=0:\n",
        "    c=a+b\n",
        "    new=(a*10)+(c%10)\n",
        "    count+=1\n",
        "    ncopy=new\n",
        "#  elif n<10:\n",
        "#    c=a+b\n",
        "#    new=(a*10)+(c%10)\n",
        "#    count+=1\n",
        "  if n==new:\n",
        "    break\n",
        "  else: continue\n",
        "#elif n<10:\n",
        "print(count)"
      ],
      "metadata": {
        "id": "9YPaRiThd3oc"
      },
      "execution_count": null,
      "outputs": []
    }
  ]
}