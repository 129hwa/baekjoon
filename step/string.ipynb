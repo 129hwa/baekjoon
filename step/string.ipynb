{
  "cells": [
    {
      "cell_type": "markdown",
      "metadata": {
        "id": "urNyWfa1Natj"
      },
      "source": [
        "### #11654 아스키 코드\n",
        "문제 설명 페이지: https://www.acmicpc.net/problem/11654"
      ]
    },
    {
      "cell_type": "code",
      "execution_count": null,
      "metadata": {
        "id": "2yT9Sz06L4Kl"
      },
      "outputs": [],
      "source": [
        "n=input()\n",
        "print(ord(n))"
      ]
    },
    {
      "cell_type": "markdown",
      "metadata": {
        "id": "GA5ijyrXNDpd"
      },
      "source": [
        "### #11720 숫자의 합\n",
        "문제 설명 페이지: https://www.acmicpc.net/problem/11720"
      ]
    },
    {
      "cell_type": "code",
      "execution_count": null,
      "metadata": {
        "id": "HlpsJUeoNRWI"
      },
      "outputs": [],
      "source": [
        "n=int(input())\n",
        "a=input()\n",
        "c=[]\n",
        "s=0\n",
        "for i in range(n):\n",
        "  c.append(a[i:i+1])\n",
        "for x in c:\n",
        "  s+=int(x)\n",
        "print(s)"
      ]
    },
    {
      "cell_type": "markdown",
      "metadata": {
        "id": "5XgV5BTkNTk8"
      },
      "source": [
        "### #10809 알파벳 찾기\n",
        "문제 설명 페이지: https://www.acmicpc.net/problem/10809"
      ]
    },
    {
      "cell_type": "code",
      "execution_count": null,
      "metadata": {
        "id": "7FD8JWB3NQlB"
      },
      "outputs": [],
      "source": [
        "S = input()\n",
        "alpha = {'a':-1,'b':-1,'c':-1,'d':-1,'e':-1,'f':-1,'g':-1,'h':-1,'i':-1,'j':-1,'k':-1,'l':-1,'m':-1,'n':-1,'o':-1,'p':-1,'q':-1,'r':-1,'s':-1,'t':-1,'u':-1,'v':-1,'w':-1,'x':-1,'y':-1,'z':-1}\n",
        "for i in range(len(S)):\n",
        "    tmp = S[i:i+1]\n",
        "    if tmp in alpha:\n",
        "        alpha[tmp] = S.index(tmp)\n",
        "for i in alpha.values():\n",
        "    print(i, end=' ')"
      ]
    },
    {
      "cell_type": "markdown",
      "metadata": {
        "id": "lbdBDcY0U7b9"
      },
      "source": [
        "### #2675 문자열 반복\n",
        "문제 설명 페이지: https://www.acmicpc.net/problem/2675"
      ]
    },
    {
      "cell_type": "code",
      "execution_count": null,
      "metadata": {
        "id": "xqS4aJCKRyTc"
      },
      "outputs": [],
      "source": [
        "iter = int(input())\n",
        "ans = {}\n",
        "\n",
        "for i in range(iter):\n",
        "    num, s = input().split()\n",
        "    ans[i] = ''\n",
        "\n",
        "    for j in tuple(s):\n",
        "        ans[i] += j*int(num)\n",
        "        #print(j*int(num))\n",
        "\n",
        "for i in range(iter):\n",
        "    print(ans[i])"
      ]
    },
    {
      "cell_type": "markdown",
      "metadata": {
        "id": "ypxbK9hwRzNv"
      },
      "source": [
        "### #1157 단어 공부\n",
        "문제 설명 페이지: https://www.acmicpc.net/problem/1157"
      ]
    },
    {
      "cell_type": "code",
      "execution_count": null,
      "metadata": {
        "id": "kW_5gdQZR9NR"
      },
      "outputs": [],
      "source": [
        "word = input().upper()\n",
        "tmp = word.count(max(word))\n",
        "w = max(word)\n",
        "most = w\n",
        "\n",
        "for i in set(word):\n",
        "    if tmp == word.count(i) and i != w:\n",
        "        most = '?'\n",
        "    elif tmp < word.count(i):\n",
        "        tmp = word.count(i)\n",
        "        most = i\n",
        "\n",
        "print(most)"
      ]
    },
    {
      "cell_type": "markdown",
      "metadata": {
        "id": "1XlsOIG4SGG2"
      },
      "source": [
        "### #1152 단어의 개수\n",
        "문제 설명 페이지: https://www.acmicpc.net/problem/1152"
      ]
    },
    {
      "cell_type": "code",
      "execution_count": null,
      "metadata": {
        "id": "pGXeruL6SXRz"
      },
      "outputs": [],
      "source": [
        "S = input().split()\n",
        "print(len(S))"
      ]
    },
    {
      "cell_type": "markdown",
      "metadata": {
        "id": "VTCUfbFHSbN_"
      },
      "source": [
        "### #2908 상수\n",
        "문제 설명 페이지: https://www.acmicpc.net/problem/2908"
      ]
    },
    {
      "cell_type": "code",
      "execution_count": null,
      "metadata": {
        "id": "1_sX6ZDASurp"
      },
      "outputs": [],
      "source": [
        "def sangsu(x, y):\n",
        "    n1 = x//100+((x%100)-(x%10))+(x%10)*100\n",
        "    n2 = y//100+((y%100)-(y%10))+(y%10)*100\n",
        "\n",
        "    if n1 >= n2:\n",
        "        print(n1)\n",
        "    else:\n",
        "        print(n2)\n",
        "\n",
        "a, b = map(int, input().split())\n",
        "sangsu(a, b)"
      ]
    },
    {
      "cell_type": "markdown",
      "metadata": {
        "id": "j1XiQ9zNa0lc"
      },
      "source": [
        "### #5622 다이얼\n",
        "문제 설명 페이지: https://www.acmicpc.net/problem/5622"
      ]
    },
    {
      "cell_type": "code",
      "execution_count": null,
      "metadata": {
        "id": "n1oKL1Dca9Yk"
      },
      "outputs": [],
      "source": [
        "dial = {'ABC':3, 'DEF':4, 'GHI':5, 'JKL':6, 'MNO':7, 'PQRS':8, 'TUV': 9, 'WXYZ': 10}\n",
        "cnt = 0\n",
        "num = input()\n",
        "for i in num:\n",
        "    for j in dial:\n",
        "        if i in j:\n",
        "            cnt += dial.get(j)\n",
        "\n",
        "print(cnt)"
      ]
    },
    {
      "cell_type": "markdown",
      "metadata": {
        "id": "0Hj2Zd-ga97I"
      },
      "source": [
        "### #2941 크로아티아 알파벳\n",
        "문제 설명 페이지: https://www.acmicpc.net/problem/5622"
      ]
    },
    {
      "cell_type": "code",
      "execution_count": null,
      "metadata": {
        "id": "KEcRPxS1bDvU"
      },
      "outputs": [],
      "source": [
        "crs = ['c=','c-','dz=','d-','lj','nj','s=','z=']\n",
        "a = input()\n",
        "cnt = 0\n",
        "\n",
        "for i in crs:\n",
        "    if i in a:\n",
        "        #print(a[a.index(i):a.index(i)+len(i)])\n",
        "        a = a.replace(a[a.index(i):a.index(i)+len(i)], '1')\n",
        "\n",
        "print(len(a))"
      ]
    },
    {
      "cell_type": "markdown",
      "metadata": {
        "id": "Awy0A3u5bEf6"
      },
      "source": [
        "### #1316 그룹 단어 체커\n",
        "문제 설명 페이지: https://www.acmicpc.net/problem/1316"
      ]
    },
    {
      "cell_type": "code",
      "execution_count": null,
      "metadata": {
        "id": "D65C9GazbIyc"
      },
      "outputs": [],
      "source": [
        "cnt = 0\n",
        "def group(word):\n",
        "    ans = 'yes'\n",
        "    for i in word:\n",
        "        if word.count(i) == 1:\n",
        "            continue\n",
        "        else:\n",
        "            if i*word.count(i) in word:\n",
        "                continue\n",
        "            else:\n",
        "                ans = 'no'\n",
        "                break\n",
        "    return ans\n",
        "\n",
        "N = int(input())\n",
        "for _ in range(N):\n",
        "    tmp = input()\n",
        "    if group(tmp) == 'yes':\n",
        "        cnt += 1\n",
        "\n",
        "print(cnt)"
      ]
    }
  ],
  "metadata": {
    "colab": {
      "provenance": []
    },
    "kernelspec": {
      "display_name": "Python 3",
      "name": "python3"
    },
    "language_info": {
      "name": "python"
    }
  },
  "nbformat": 4,
  "nbformat_minor": 0
}
