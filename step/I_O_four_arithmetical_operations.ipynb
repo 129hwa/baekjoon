{
  "nbformat": 4,
  "nbformat_minor": 0,
  "metadata": {
    "colab": {
      "provenance": []
    },
    "kernelspec": {
      "name": "python3",
      "display_name": "Python 3"
    },
    "language_info": {
      "name": "python"
    }
  },
  "cells": [
    {
      "cell_type": "markdown",
      "source": [
        "### #2557 Hello World\n",
        "문제 설명 페이지: https://www.acmicpc.net/problem/2557"
      ],
      "metadata": {
        "id": "urNyWfa1Natj"
      }
    },
    {
      "cell_type": "code",
      "execution_count": null,
      "metadata": {
        "id": "2yT9Sz06L4Kl"
      },
      "outputs": [],
      "source": [
        "print(\"Hello World!\")"
      ]
    },
    {
      "cell_type": "markdown",
      "source": [
        "### #1000 A+B\n",
        "문제 설명 페이지: https://www.acmicpc.net/problem/1000"
      ],
      "metadata": {
        "id": "GA5ijyrXNDpd"
      }
    },
    {
      "cell_type": "code",
      "source": [
        "a,b=map(int,input().split())\n",
        "print(a+b)"
      ],
      "metadata": {
        "id": "HlpsJUeoNRWI"
      },
      "execution_count": null,
      "outputs": []
    },
    {
      "cell_type": "markdown",
      "source": [
        "### #1001 A-B\n",
        "문제 설명 페이지: https://www.acmicpc.net/problem/1001"
      ],
      "metadata": {
        "id": "5XgV5BTkNTk8"
      }
    },
    {
      "cell_type": "code",
      "source": [
        "a,b=map(int,input().split())\n",
        "print(a-b)"
      ],
      "metadata": {
        "id": "7FD8JWB3NQlB"
      },
      "execution_count": null,
      "outputs": []
    },
    {
      "cell_type": "markdown",
      "source": [
        "### #10998 A*B\n",
        "문제 설명 페이지: https://www.acmicpc.net/problem/10998"
      ],
      "metadata": {
        "id": "lbdBDcY0U7b9"
      }
    },
    {
      "cell_type": "code",
      "source": [
        "a,b=map(int,input().split())\n",
        "print(a*b)"
      ],
      "metadata": {
        "id": "xqS4aJCKRyTc"
      },
      "execution_count": null,
      "outputs": []
    },
    {
      "cell_type": "markdown",
      "source": [
        "### #1008 A/B\n",
        "문제 설명 페이지: https://www.acmicpc.net/problem/1008"
      ],
      "metadata": {
        "id": "ypxbK9hwRzNv"
      }
    },
    {
      "cell_type": "code",
      "source": [
        "a,b=map(int,input().split())\n",
        "print(a/b)"
      ],
      "metadata": {
        "id": "kW_5gdQZR9NR"
      },
      "execution_count": null,
      "outputs": []
    },
    {
      "cell_type": "markdown",
      "source": [
        "### #10869 사칙연산\n",
        "문제 설명 페이지: https://www.acmicpc.net/problem/10869"
      ],
      "metadata": {
        "id": "1XlsOIG4SGG2"
      }
    },
    {
      "cell_type": "code",
      "source": [
        "a,b=map(int,input().split())\n",
        "print(a+b)\n",
        "print(a-b)\n",
        "print(a*b)\n",
        "print(a//b)\n",
        "print(a%b)"
      ],
      "metadata": {
        "id": "pGXeruL6SXRz"
      },
      "execution_count": null,
      "outputs": []
    },
    {
      "cell_type": "markdown",
      "source": [
        "### #10926 ??!\n",
        "문제 설명 페이지: https://www.acmicpc.net/problem/10926"
      ],
      "metadata": {
        "id": "VTCUfbFHSbN_"
      }
    },
    {
      "cell_type": "code",
      "source": [
        "id = input()\n",
        "print(id+'??!')"
      ],
      "metadata": {
        "id": "1_sX6ZDASurp"
      },
      "execution_count": null,
      "outputs": []
    },
    {
      "cell_type": "markdown",
      "source": [
        "### #18108 1998년생인 내가 태국에서는 2541년생?!\n",
        "문제 설명 페이지: https://www.acmicpc.net/problem/18108"
      ],
      "metadata": {
        "id": "IdnEYVLeS1D5"
      }
    },
    {
      "cell_type": "code",
      "source": [
        "y = int(input())\n",
        "print(y-543)"
      ],
      "metadata": {
        "id": "x4CmppHgS-fz"
      },
      "execution_count": null,
      "outputs": []
    },
    {
      "cell_type": "markdown",
      "source": [
        "### #3003 킹, 퀸, 룩, 비숍, 나이트, 폰\n",
        "문제 설명 페이지: https://www.acmicpc.net/problem/3003"
      ],
      "metadata": {
        "id": "79GXXURSS_Ib"
      }
    },
    {
      "cell_type": "code",
      "source": [
        "chess = [1, 1, 2, 2, 2, 8]\n",
        "k, q, r, kn, b, p = map(int, input().split())\n",
        "\n",
        "for x,y in zip(chess, [k,q,r,kn,b,p]):\n",
        "    print(x-y, end=' ')"
      ],
      "metadata": {
        "id": "JvvlZLnyS0rg"
      },
      "execution_count": null,
      "outputs": []
    },
    {
      "cell_type": "markdown",
      "source": [
        "### #10430 나머지\n",
        "문제 설명 페이지: https://www.acmicpc.net/problem/10430"
      ],
      "metadata": {
        "id": "vPh2NeE5TF1R"
      }
    },
    {
      "cell_type": "code",
      "source": [
        "a,b,c=map(int,input().split())\n",
        "print((a+b)%c)\n",
        "print(((a%c)+(b%c))%c)\n",
        "print((a*b)%c)\n",
        "print(((a%c)*(b%c))%c)"
      ],
      "metadata": {
        "id": "U2Evp_K-TJyT"
      },
      "execution_count": null,
      "outputs": []
    },
    {
      "cell_type": "markdown",
      "source": [
        "### #2588 곱셈\n",
        "문제 설명 페이지: https://www.acmicpc.net/problem/2588"
      ],
      "metadata": {
        "id": "qoW6epH0V5Xb"
      }
    },
    {
      "cell_type": "code",
      "source": [
        "a=int(input())\n",
        "b=int(input())\n",
        "\n",
        "bh=b//100\n",
        "bt=(b%100)//10\n",
        "bo=(b%100)%10\n",
        "\n",
        "\n",
        "print(a*bo)\n",
        "print(a*bt)\n",
        "print(a*bh)\n",
        "print((a*bo)+(a*bt)*10+(a*bh)*100)"
      ],
      "metadata": {
        "id": "ft48E8PBV_KO"
      },
      "execution_count": null,
      "outputs": []
    },
    {
      "cell_type": "markdown",
      "source": [
        "### #10171 고양이\n",
        "문제 설명 페이지: https://www.acmicpc.net/problem/10171"
      ],
      "metadata": {
        "id": "xOPaz8WUV_qE"
      }
    },
    {
      "cell_type": "code",
      "source": [
        "print(\"\\\\    /\\\\\")\n",
        "print(\" )  ( ')\")\n",
        "print(\"(  /  )\")\n",
        "print(\" \\\\(__)|\")"
      ],
      "metadata": {
        "id": "7lNp0cA5WEeG"
      },
      "execution_count": null,
      "outputs": []
    },
    {
      "cell_type": "markdown",
      "source": [
        "### #10172 개\n",
        "문제 설명 페이지: https://www.acmicpc.net/problem/10172"
      ],
      "metadata": {
        "id": "v6ORXpxqWE2l"
      }
    },
    {
      "cell_type": "code",
      "source": [
        "print(\"|\\\\_/|\")\n",
        "print(\"|q p|   /}\")\n",
        "print('( 0 )\"\"\"\\\\')\n",
        "print('|\"^\"`    |')\n",
        "print(\"||_/=\\\\\\\\__|\")"
      ],
      "metadata": {
        "id": "A86O2vATWKwN"
      },
      "execution_count": null,
      "outputs": []
    },
    {
      "cell_type": "markdown",
      "source": [
        "### #25083 새싹\n",
        "문제 설명 페이지: https://www.acmicpc.net/problem/25083"
      ],
      "metadata": {
        "id": "W8aYefncWLU7"
      }
    },
    {
      "cell_type": "code",
      "source": [
        "print('''         ,r'\"7\n",
        "r`-_   ,'  ,/\n",
        " \\. \". L_r'\n",
        "   `~\\/\n",
        "      |\n",
        "      |''')"
      ],
      "metadata": {
        "id": "62HDYqBBWRmK"
      },
      "execution_count": null,
      "outputs": []
    }
  ]
}