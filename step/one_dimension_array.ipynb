{
  "nbformat": 4,
  "nbformat_minor": 0,
  "metadata": {
    "colab": {
      "provenance": []
    },
    "kernelspec": {
      "name": "python3",
      "display_name": "Python 3"
    },
    "language_info": {
      "name": "python"
    }
  },
  "cells": [
    {
      "cell_type": "markdown",
      "source": [
        "### #10807 개수 세기\n",
        "문제 설명 페이지: https://www.acmicpc.net/problem/10807"
      ],
      "metadata": {
        "id": "urNyWfa1Natj"
      }
    },
    {
      "cell_type": "code",
      "execution_count": null,
      "metadata": {
        "id": "2yT9Sz06L4Kl"
      },
      "outputs": [],
      "source": [
        "N = int(input())\n",
        "num = [int(i) for i in input().split()]\n",
        "v = int(input())\n",
        "cnt = 0\n",
        "\n",
        "for i in num:\n",
        "    if i == v:\n",
        "        cnt += 1\n",
        "\n",
        "print(cnt)"
      ]
    },
    {
      "cell_type": "markdown",
      "source": [
        "### #10871 X보다 작은 수\n",
        "문제 설명 페이지: https://www.acmicpc.net/problem/10871"
      ],
      "metadata": {
        "id": "GA5ijyrXNDpd"
      }
    },
    {
      "cell_type": "code",
      "source": [
        "import sys\n",
        "n,x=map(int,input().split())\n",
        "num=[int(i) for i in input().split()]\n",
        "c=[]\n",
        "for i in num:\n",
        "  if i<x:\n",
        "    c.append(i)\n",
        "for j in c:\n",
        "  print(j,end=' ')"
      ],
      "metadata": {
        "id": "HlpsJUeoNRWI"
      },
      "execution_count": null,
      "outputs": []
    },
    {
      "cell_type": "markdown",
      "source": [
        "### #10818 최소, 최대\n",
        "문제 설명 페이지: https://www.acmicpc.net/problem/10818"
      ],
      "metadata": {
        "id": "5XgV5BTkNTk8"
      }
    },
    {
      "cell_type": "code",
      "source": [
        "N = int(input())\n",
        "m=[]\n",
        "arr = input().split()\n",
        "for i in range(len(arr)):\n",
        "    m.append(int(arr[i]))\n",
        "    if len(arr) != N:\n",
        "        print('ERROR')\n",
        "    \n",
        "print(min(m), max(m))"
      ],
      "metadata": {
        "id": "7FD8JWB3NQlB"
      },
      "execution_count": null,
      "outputs": []
    },
    {
      "cell_type": "code",
      "source": [
        "import sys\n",
        "\n",
        "N = int(input())\n",
        "m=[]\n",
        "arr = sys.stdin.readline().split()\n",
        "for i in range(len(arr)):\n",
        "    m.append(int(arr[i]))\n",
        "    if len(arr) != N:\n",
        "        print('ERROR')\n",
        "    \n",
        "print(min(m), max(m))"
      ],
      "metadata": {
        "id": "xqS4aJCKRyTc"
      },
      "execution_count": null,
      "outputs": []
    },
    {
      "cell_type": "markdown",
      "source": [
        "### #2562 최댓값\n",
        "문제 설명 페이지: https://www.acmicpc.net/problem/2562"
      ],
      "metadata": {
        "id": "ypxbK9hwRzNv"
      }
    },
    {
      "cell_type": "code",
      "source": [
        "mm=[]\n",
        "for i in range(9):\n",
        "    s = int(input())\n",
        "    mm.append(s)\n",
        "\n",
        "print(max(mm))\n",
        "print(mm.index(max(mm))+1)"
      ],
      "metadata": {
        "id": "kW_5gdQZR9NR"
      },
      "execution_count": null,
      "outputs": []
    },
    {
      "cell_type": "markdown",
      "source": [
        "### #5597 과제 안 내신 분..?\n",
        "문제 설명 페이지: https://www.acmicpc.net/problem/5597"
      ],
      "metadata": {
        "id": "1XlsOIG4SGG2"
      }
    },
    {
      "cell_type": "code",
      "source": [
        "present = [i for i in range(1,31)]\n",
        "\n",
        "for _ in range(28):\n",
        "    n = int(input())\n",
        "    if n in present:\n",
        "        present.remove(n)\n",
        "\n",
        "present = sorted(present)\n",
        "print(present[0])\n",
        "print(present[1])"
      ],
      "metadata": {
        "id": "pGXeruL6SXRz"
      },
      "execution_count": null,
      "outputs": []
    },
    {
      "cell_type": "markdown",
      "source": [
        "### #3052 나머지\n",
        "문제 설명 페이지: https://www.acmicpc.net/problem/3052"
      ],
      "metadata": {
        "id": "VTCUfbFHSbN_"
      }
    },
    {
      "cell_type": "code",
      "source": [
        "n=[]\n",
        "for i in range(10):\n",
        "    num=int(input())\n",
        "    n.append(num%42)\n",
        "nset = set(n)\n",
        "print(len(nset))"
      ],
      "metadata": {
        "id": "1_sX6ZDASurp"
      },
      "execution_count": null,
      "outputs": []
    },
    {
      "cell_type": "markdown",
      "source": [
        "### #1546 평균\n",
        "문제 설명 페이지: https://www.acmicpc.net/problem/1546"
      ],
      "metadata": {
        "id": "IdnEYVLeS1D5"
      }
    },
    {
      "cell_type": "code",
      "source": [
        "mean = []\n",
        "result=[]\n",
        "N = int(input())\n",
        "num = input().split()\n",
        "for i in range(N):\n",
        "    mean.append(int(num[i]))\n",
        "M = max(mean)\n",
        "for i in range(N):\n",
        "    result.append(mean[i]/M*100)\n",
        "\n",
        "print(sum(result)/N)"
      ],
      "metadata": {
        "id": "x4CmppHgS-fz"
      },
      "execution_count": null,
      "outputs": []
    },
    {
      "cell_type": "markdown",
      "source": [
        "### #8958 OX퀴즈\n",
        "문제 설명 페이지: https://www.acmicpc.net/problem/8958"
      ],
      "metadata": {
        "id": "79GXXURSS_Ib"
      }
    },
    {
      "cell_type": "code",
      "source": [
        "box = []\n",
        "N = int(input())\n",
        "for i in range(N):\n",
        "    tmp = input()\n",
        "    box.append(tmp)\n",
        "tmp=0\n",
        "for i in range(N):\n",
        "    ls=[]\n",
        "    count=[]\n",
        "    length = len(box[i])\n",
        "    for j in range(length):\n",
        "        x = box[i][j:j+1] #slicing string per letter\n",
        "        ls.append(x)\n",
        "    for k in range(len(ls)): # k is index of each letter\n",
        "        if ls[k] != 'O':\n",
        "            tmp=0\n",
        "            continue\n",
        "        tmp+=1\n",
        "        count.append(tmp)\n",
        "    tmp=0\n",
        "    print(sum(count))"
      ],
      "metadata": {
        "id": "JvvlZLnyS0rg"
      },
      "execution_count": null,
      "outputs": []
    },
    {
      "cell_type": "markdown",
      "source": [
        "### #4344 평균은 넘겠지\n",
        "문제 설명 페이지: https://www.acmicpc.net/problem/4344"
      ],
      "metadata": {
        "id": "vPh2NeE5TF1R"
      }
    },
    {
      "cell_type": "code",
      "source": [
        "ls=[]\n",
        "C = int(input())\n",
        "for i in range(C):\n",
        "    tmp = input().split()\n",
        "    N = int(tmp[0])\n",
        "    ls.append([N, tmp[1:]])\n",
        "mean=[]\n",
        "sum=0\n",
        "count=0\n",
        "for i in range(len(ls)): # C = len(ls)\n",
        "    tmp= ls[i][1]\n",
        "    mean.append(tmp)\n",
        "for i in range(len(mean)):\n",
        "    sum=0\n",
        "    for j in range(len(mean[i])):\n",
        "        mean[i][j]= int(mean[i][j])\n",
        "        sum += int(mean[i][j])\n",
        "    avg = sum/len(mean[i])\n",
        "    count=0\n",
        "    for k in range(len(mean[i])):    \n",
        "        if mean[i][k] > avg:\n",
        "            count +=1\n",
        "    print('{:.3f}%'.format(count/len(mean[i])*100))"
      ],
      "metadata": {
        "id": "U2Evp_K-TJyT"
      },
      "execution_count": null,
      "outputs": []
    }
  ]
}