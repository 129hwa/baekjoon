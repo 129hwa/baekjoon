{
  "nbformat": 4,
  "nbformat_minor": 0,
  "metadata": {
    "colab": {
      "provenance": []
    },
    "kernelspec": {
      "name": "python3",
      "display_name": "Python 3"
    },
    "language_info": {
      "name": "python"
    }
  },
  "cells": [
    {
      "cell_type": "markdown",
      "source": [
        "### #1330 두 수 비교하기\n",
        "문제 설명 페이지: https://www.acmicpc.net/problem/1330"
      ],
      "metadata": {
        "id": "urNyWfa1Natj"
      }
    },
    {
      "cell_type": "code",
      "execution_count": null,
      "metadata": {
        "id": "2yT9Sz06L4Kl"
      },
      "outputs": [],
      "source": [
        "a,b=map(int,input().split())\n",
        "if a>b:\n",
        "    print(\">\")\n",
        "elif a<b:\n",
        "    print(\"<\")\n",
        "elif a==b:\n",
        "    print(\"==\")"
      ]
    },
    {
      "cell_type": "markdown",
      "source": [
        "### #9498 시험 성적\n",
        "문제 설명 페이지: https://www.acmicpc.net/problem/9498"
      ],
      "metadata": {
        "id": "GA5ijyrXNDpd"
      }
    },
    {
      "cell_type": "code",
      "source": [
        "score=int(input())\n",
        "if 90<=score and score<=100:\n",
        "    print(\"A\")\n",
        "elif 80<=score and score<=89:\n",
        "    print(\"B\")\n",
        "elif 70<= score and score<=79:\n",
        "    print(\"C\")\n",
        "elif 60<= score and score<=69:\n",
        "    print(\"D\")\n",
        "elif score<60:\n",
        "    print(\"F\")"
      ],
      "metadata": {
        "id": "HlpsJUeoNRWI"
      },
      "execution_count": null,
      "outputs": []
    },
    {
      "cell_type": "markdown",
      "source": [
        "### #2753 윤년\n",
        "문제 설명 페이지: https://www.acmicpc.net/problem/2753"
      ],
      "metadata": {
        "id": "5XgV5BTkNTk8"
      }
    },
    {
      "cell_type": "code",
      "source": [
        "year=int(input())\n",
        "if year%4==0 and year%100!=0 or year%400==0:\n",
        "    print(1)\n",
        "else:\n",
        "    print(0)"
      ],
      "metadata": {
        "id": "7FD8JWB3NQlB"
      },
      "execution_count": null,
      "outputs": []
    },
    {
      "cell_type": "markdown",
      "source": [
        "### #14681 사분면 고르기\n",
        "문제 설명 페이지: https://www.acmicpc.net/problem/14681"
      ],
      "metadata": {
        "id": "lbdBDcY0U7b9"
      }
    },
    {
      "cell_type": "code",
      "source": [
        "x=int(input())\n",
        "y=int(input())\n",
        "\n",
        "if x>0 and y>0:\n",
        "    print(1)\n",
        "elif x>0 and y<0:\n",
        "    print(4)\n",
        "elif x<0 and y>0:\n",
        "    print(2)\n",
        "elif x<0 and y<0:\n",
        "    print(3)"
      ],
      "metadata": {
        "id": "xqS4aJCKRyTc"
      },
      "execution_count": null,
      "outputs": []
    },
    {
      "cell_type": "markdown",
      "source": [
        "### #2884 알람 시계\n",
        "문제 설명 페이지: https://www.acmicpc.net/problem/2884"
      ],
      "metadata": {
        "id": "ypxbK9hwRzNv"
      }
    },
    {
      "cell_type": "code",
      "source": [
        "h,m=map(int,input().split())\n",
        "\n",
        "if m-45>=0:\n",
        "    print(h, m-45)\n",
        "elif m-45<0:\n",
        "  if h>0:\n",
        "    h-=1\n",
        "    m+=60\n",
        "    print(h, m-45)\n",
        "  elif h==0:\n",
        "    h=23\n",
        "    m+=60\n",
        "    print(h, m-45)"
      ],
      "metadata": {
        "id": "kW_5gdQZR9NR"
      },
      "execution_count": null,
      "outputs": []
    },
    {
      "cell_type": "markdown",
      "source": [
        "### #2525 오븐 시계\n",
        "문제 설명 페이지: https://www.acmicpc.net/problem/2525"
      ],
      "metadata": {
        "id": "1XlsOIG4SGG2"
      }
    },
    {
      "cell_type": "code",
      "source": [
        "hour, minute = map(int, input().split())\n",
        "time = int(input())\n",
        "\n",
        "minute = minute+time\n",
        "if minute < 60:\n",
        "    pass\n",
        "elif minute == 60:\n",
        "    hour += 1\n",
        "    if hour > 24:\n",
        "        hour -= 24\n",
        "        if hour > 24:\n",
        "            while hour < 24:\n",
        "                hour -= 24\n",
        "                break\n",
        "    elif hour == 24:\n",
        "        hour = 0\n",
        "    else:\n",
        "        pass\n",
        "    minute = 0\n",
        "else:#minute>60\n",
        "    hour = hour + (minute//60)\n",
        "    if hour > 24:\n",
        "        hour -= 24\n",
        "        if hour > 24:\n",
        "            while hour < 24:\n",
        "                hour -= 24\n",
        "                break\n",
        "    elif hour == 24:\n",
        "        hour = 0\n",
        "    else:\n",
        "        pass\n",
        "    minute = minute%60\n",
        "\n",
        "print(hour, minute)"
      ],
      "metadata": {
        "id": "pGXeruL6SXRz"
      },
      "execution_count": null,
      "outputs": []
    },
    {
      "cell_type": "markdown",
      "source": [
        "### #2480 주사위 세개\n",
        "문제 설명 페이지: https://www.acmicpc.net/problem/2480"
      ],
      "metadata": {
        "id": "VTCUfbFHSbN_"
      }
    },
    {
      "cell_type": "code",
      "source": [
        "d1, d2, d3 = map(int, input().split())\n",
        "\n",
        "if d1 == d2 and d2 == d3:\n",
        "    print(10000+d1*1000)\n",
        "elif d1 ==d2 and d2 != d3:\n",
        "    print(1000+d2*100)\n",
        "elif d1 == d3 and d2 != d3:\n",
        "    print(1000+d1*100)\n",
        "elif d2 == d3 and d2 != d1:\n",
        "    print(1000+d2*100)\n",
        "else:\n",
        "    print(max(d1, d2, d3)*100)"
      ],
      "metadata": {
        "id": "1_sX6ZDASurp"
      },
      "execution_count": null,
      "outputs": []
    }
  ]
}